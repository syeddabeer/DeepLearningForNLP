{
 "cells": [
  {
   "cell_type": "code",
   "execution_count": 1,
   "id": "8835e7f7",
   "metadata": {},
   "outputs": [],
   "source": [
    "# Importing the necessary modules\n",
    "import pandas as pd\n",
    "import tarfile\n",
    "from sklearn.preprocessing import LabelEncoder\n",
    "from sklearn.model_selection import train_test_split"
   ]
  },
  {
   "cell_type": "code",
   "execution_count": 2,
   "id": "53ff0fb4",
   "metadata": {},
   "outputs": [],
   "source": [
    "train_df = pd.read_csv('yelp_review_full_csv/train.csv',  header=None)\n"
   ]
  },
  {
   "cell_type": "code",
   "execution_count": 3,
   "id": "8b329d90",
   "metadata": {},
   "outputs": [
    {
     "data": {
      "text/html": [
       "<div>\n",
       "<style scoped>\n",
       "    .dataframe tbody tr th:only-of-type {\n",
       "        vertical-align: middle;\n",
       "    }\n",
       "\n",
       "    .dataframe tbody tr th {\n",
       "        vertical-align: top;\n",
       "    }\n",
       "\n",
       "    .dataframe thead th {\n",
       "        text-align: right;\n",
       "    }\n",
       "</style>\n",
       "<table border=\"1\" class=\"dataframe\">\n",
       "  <thead>\n",
       "    <tr style=\"text-align: right;\">\n",
       "      <th></th>\n",
       "      <th>0</th>\n",
       "      <th>1</th>\n",
       "    </tr>\n",
       "  </thead>\n",
       "  <tbody>\n",
       "    <tr>\n",
       "      <th>0</th>\n",
       "      <td>5</td>\n",
       "      <td>dr. goldberg offers everything i look for in a...</td>\n",
       "    </tr>\n",
       "    <tr>\n",
       "      <th>1</th>\n",
       "      <td>2</td>\n",
       "      <td>Unfortunately, the frustration of being Dr. Go...</td>\n",
       "    </tr>\n",
       "    <tr>\n",
       "      <th>2</th>\n",
       "      <td>4</td>\n",
       "      <td>Been going to Dr. Goldberg for over 10 years. ...</td>\n",
       "    </tr>\n",
       "    <tr>\n",
       "      <th>3</th>\n",
       "      <td>4</td>\n",
       "      <td>Got a letter in the mail last week that said D...</td>\n",
       "    </tr>\n",
       "    <tr>\n",
       "      <th>4</th>\n",
       "      <td>1</td>\n",
       "      <td>I don't know what Dr. Goldberg was like before...</td>\n",
       "    </tr>\n",
       "  </tbody>\n",
       "</table>\n",
       "</div>"
      ],
      "text/plain": [
       "   0                                                  1\n",
       "0  5  dr. goldberg offers everything i look for in a...\n",
       "1  2  Unfortunately, the frustration of being Dr. Go...\n",
       "2  4  Been going to Dr. Goldberg for over 10 years. ...\n",
       "3  4  Got a letter in the mail last week that said D...\n",
       "4  1  I don't know what Dr. Goldberg was like before..."
      ]
     },
     "execution_count": 3,
     "metadata": {},
     "output_type": "execute_result"
    }
   ],
   "source": [
    "train_df.head()"
   ]
  },
  {
   "cell_type": "code",
   "execution_count": 4,
   "id": "7a8fc13d",
   "metadata": {},
   "outputs": [],
   "source": [
    "test_df = pd.read_csv('yelp_review_full_csv/test.csv',  header=None)\n"
   ]
  },
  {
   "cell_type": "code",
   "execution_count": 5,
   "id": "9015d8dc",
   "metadata": {},
   "outputs": [],
   "source": [
    "train_df[0] = (train_df[0] == 2).astype(int)\n",
    "test_df[0] = (test_df[0] == 2).astype(int)"
   ]
  },
  {
   "cell_type": "code",
   "execution_count": 6,
   "id": "653654e1",
   "metadata": {},
   "outputs": [
    {
     "data": {
      "text/html": [
       "<div>\n",
       "<style scoped>\n",
       "    .dataframe tbody tr th:only-of-type {\n",
       "        vertical-align: middle;\n",
       "    }\n",
       "\n",
       "    .dataframe tbody tr th {\n",
       "        vertical-align: top;\n",
       "    }\n",
       "\n",
       "    .dataframe thead th {\n",
       "        text-align: right;\n",
       "    }\n",
       "</style>\n",
       "<table border=\"1\" class=\"dataframe\">\n",
       "  <thead>\n",
       "    <tr style=\"text-align: right;\">\n",
       "      <th></th>\n",
       "      <th>0</th>\n",
       "      <th>1</th>\n",
       "    </tr>\n",
       "  </thead>\n",
       "  <tbody>\n",
       "    <tr>\n",
       "      <th>0</th>\n",
       "      <td>0</td>\n",
       "      <td>dr. goldberg offers everything i look for in a...</td>\n",
       "    </tr>\n",
       "    <tr>\n",
       "      <th>1</th>\n",
       "      <td>1</td>\n",
       "      <td>Unfortunately, the frustration of being Dr. Go...</td>\n",
       "    </tr>\n",
       "    <tr>\n",
       "      <th>2</th>\n",
       "      <td>0</td>\n",
       "      <td>Been going to Dr. Goldberg for over 10 years. ...</td>\n",
       "    </tr>\n",
       "    <tr>\n",
       "      <th>3</th>\n",
       "      <td>0</td>\n",
       "      <td>Got a letter in the mail last week that said D...</td>\n",
       "    </tr>\n",
       "    <tr>\n",
       "      <th>4</th>\n",
       "      <td>0</td>\n",
       "      <td>I don't know what Dr. Goldberg was like before...</td>\n",
       "    </tr>\n",
       "  </tbody>\n",
       "</table>\n",
       "</div>"
      ],
      "text/plain": [
       "   0                                                  1\n",
       "0  0  dr. goldberg offers everything i look for in a...\n",
       "1  1  Unfortunately, the frustration of being Dr. Go...\n",
       "2  0  Been going to Dr. Goldberg for over 10 years. ...\n",
       "3  0  Got a letter in the mail last week that said D...\n",
       "4  0  I don't know what Dr. Goldberg was like before..."
      ]
     },
     "execution_count": 6,
     "metadata": {},
     "output_type": "execute_result"
    }
   ],
   "source": [
    "train_df.head()\n"
   ]
  },
  {
   "cell_type": "markdown",
   "id": "fa827ba3",
   "metadata": {},
   "source": [
    "Making things BERT friendly\n",
    "First let's make the data compliant with BERT:\n",
    "\n",
    "Column 0: An ID for the row. (Required both for train and test data.)\n",
    "Column 1: The class label for the row. (Required only for train data.)\n",
    "Column 2: A column of the same letter for all rows — this is a throw-away column that we need to include because BERT expects it. (Required only for train data.)\n",
    "Column 3: The text examples we want to classify. (Required both for train and test data.)\n",
    "\n",
    "We need to split the files into the format expected by BERT: BERT comes with data loading classes that expects two files called train and dev for training. In addition, BERT’s data loading classes can also use a test file but it expects the test file to be unlabelled.\n",
    "\n",
    "\n",
    "Once the data is in the correct format, we need to save the files as .tsv (BERT doesn't take .csv as input.)"
   ]
  },
  {
   "cell_type": "code",
   "execution_count": 7,
   "id": "c8629c8a",
   "metadata": {},
   "outputs": [],
   "source": [
    "# Creating training dataframe according to BERT by adding the required columns\n",
    "df_bert = pd.DataFrame({\n",
    "    'id':range(len(train_df)),\n",
    "    'label':train_df[0],\n",
    "    'alpha':['a']*train_df.shape[0],\n",
    "    'text': train_df[1].replace(r'\\n', ' ', regex=True)\n",
    "})"
   ]
  },
  {
   "cell_type": "code",
   "execution_count": 8,
   "id": "38a47663",
   "metadata": {},
   "outputs": [
    {
     "data": {
      "text/html": [
       "<div>\n",
       "<style scoped>\n",
       "    .dataframe tbody tr th:only-of-type {\n",
       "        vertical-align: middle;\n",
       "    }\n",
       "\n",
       "    .dataframe tbody tr th {\n",
       "        vertical-align: top;\n",
       "    }\n",
       "\n",
       "    .dataframe thead th {\n",
       "        text-align: right;\n",
       "    }\n",
       "</style>\n",
       "<table border=\"1\" class=\"dataframe\">\n",
       "  <thead>\n",
       "    <tr style=\"text-align: right;\">\n",
       "      <th></th>\n",
       "      <th>id</th>\n",
       "      <th>label</th>\n",
       "      <th>alpha</th>\n",
       "      <th>text</th>\n",
       "    </tr>\n",
       "  </thead>\n",
       "  <tbody>\n",
       "    <tr>\n",
       "      <th>641263</th>\n",
       "      <td>641263</td>\n",
       "      <td>0</td>\n",
       "      <td>a</td>\n",
       "      <td>The waitress was nice. It was very quiet as th...</td>\n",
       "    </tr>\n",
       "    <tr>\n",
       "      <th>72400</th>\n",
       "      <td>72400</td>\n",
       "      <td>1</td>\n",
       "      <td>a</td>\n",
       "      <td>Friendly nurses and clean hospital but doctors...</td>\n",
       "    </tr>\n",
       "    <tr>\n",
       "      <th>594049</th>\n",
       "      <td>594049</td>\n",
       "      <td>0</td>\n",
       "      <td>a</td>\n",
       "      <td>I've been on a hiatus from reviews on Yelp for...</td>\n",
       "    </tr>\n",
       "    <tr>\n",
       "      <th>173094</th>\n",
       "      <td>173094</td>\n",
       "      <td>0</td>\n",
       "      <td>a</td>\n",
       "      <td>Congratulations Thomas Keller.  My meal, actua...</td>\n",
       "    </tr>\n",
       "    <tr>\n",
       "      <th>539454</th>\n",
       "      <td>539454</td>\n",
       "      <td>1</td>\n",
       "      <td>a</td>\n",
       "      <td>1st time there. I didn't appreciate being rush...</td>\n",
       "    </tr>\n",
       "  </tbody>\n",
       "</table>\n",
       "</div>"
      ],
      "text/plain": [
       "            id  label alpha                                               text\n",
       "641263  641263      0     a  The waitress was nice. It was very quiet as th...\n",
       "72400    72400      1     a  Friendly nurses and clean hospital but doctors...\n",
       "594049  594049      0     a  I've been on a hiatus from reviews on Yelp for...\n",
       "173094  173094      0     a  Congratulations Thomas Keller.  My meal, actua...\n",
       "539454  539454      1     a  1st time there. I didn't appreciate being rush..."
      ]
     },
     "execution_count": 8,
     "metadata": {},
     "output_type": "execute_result"
    }
   ],
   "source": [
    "# Splitting training data file into *train* and *dev*\n",
    "df_bert_train, df_bert_dev = train_test_split(df_bert, test_size=0.01)\n",
    "\n",
    "df_bert_train.head()"
   ]
  },
  {
   "cell_type": "code",
   "execution_count": 9,
   "id": "9e126ba8",
   "metadata": {},
   "outputs": [
    {
     "data": {
      "text/html": [
       "<div>\n",
       "<style scoped>\n",
       "    .dataframe tbody tr th:only-of-type {\n",
       "        vertical-align: middle;\n",
       "    }\n",
       "\n",
       "    .dataframe tbody tr th {\n",
       "        vertical-align: top;\n",
       "    }\n",
       "\n",
       "    .dataframe thead th {\n",
       "        text-align: right;\n",
       "    }\n",
       "</style>\n",
       "<table border=\"1\" class=\"dataframe\">\n",
       "  <thead>\n",
       "    <tr style=\"text-align: right;\">\n",
       "      <th></th>\n",
       "      <th>id</th>\n",
       "      <th>text</th>\n",
       "    </tr>\n",
       "  </thead>\n",
       "  <tbody>\n",
       "    <tr>\n",
       "      <th>0</th>\n",
       "      <td>0</td>\n",
       "      <td>I got 'new' tires from them and within two wee...</td>\n",
       "    </tr>\n",
       "    <tr>\n",
       "      <th>1</th>\n",
       "      <td>1</td>\n",
       "      <td>Don't waste your time.  We had two different p...</td>\n",
       "    </tr>\n",
       "    <tr>\n",
       "      <th>2</th>\n",
       "      <td>2</td>\n",
       "      <td>All I can say is the worst! We were the only 2...</td>\n",
       "    </tr>\n",
       "    <tr>\n",
       "      <th>3</th>\n",
       "      <td>3</td>\n",
       "      <td>I have been to this restaurant twice and was d...</td>\n",
       "    </tr>\n",
       "    <tr>\n",
       "      <th>4</th>\n",
       "      <td>4</td>\n",
       "      <td>Food was NOT GOOD at all! My husband &amp; I ate h...</td>\n",
       "    </tr>\n",
       "  </tbody>\n",
       "</table>\n",
       "</div>"
      ],
      "text/plain": [
       "   id                                               text\n",
       "0   0  I got 'new' tires from them and within two wee...\n",
       "1   1  Don't waste your time.  We had two different p...\n",
       "2   2  All I can say is the worst! We were the only 2...\n",
       "3   3  I have been to this restaurant twice and was d...\n",
       "4   4  Food was NOT GOOD at all! My husband & I ate h..."
      ]
     },
     "execution_count": 9,
     "metadata": {},
     "output_type": "execute_result"
    }
   ],
   "source": [
    "# Creating test dataframe according to BERT\n",
    "df_bert_test = pd.DataFrame({\n",
    "    'id':range(len(test_df)),\n",
    "    'text': test_df[1].replace(r'\\n', ' ', regex=True)\n",
    "})\n",
    "\n",
    "df_bert_test.head()"
   ]
  },
  {
   "cell_type": "code",
   "execution_count": 11,
   "id": "936ef7cd",
   "metadata": {},
   "outputs": [],
   "source": [
    "# Saving dataframes to .tsv format as required by BERT\n",
    "df_bert_train.to_csv('train.tsv', sep='\\t', index=False, header=False)\n",
    "df_bert_dev.to_csv('dev.tsv', sep='\\t', index=False, header=False)\n",
    "df_bert_test.to_csv('test.tsv', sep='\\t', index=False, header=False)"
   ]
  },
  {
   "cell_type": "code",
   "execution_count": null,
   "id": "f7605431",
   "metadata": {},
   "outputs": [],
   "source": []
  }
 ],
 "metadata": {
  "kernelspec": {
   "display_name": "Python 3 (ipykernel)",
   "language": "python",
   "name": "python3"
  },
  "language_info": {
   "codemirror_mode": {
    "name": "ipython",
    "version": 3
   },
   "file_extension": ".py",
   "mimetype": "text/x-python",
   "name": "python",
   "nbconvert_exporter": "python",
   "pygments_lexer": "ipython3",
   "version": "3.9.7"
  }
 },
 "nbformat": 4,
 "nbformat_minor": 5
}
